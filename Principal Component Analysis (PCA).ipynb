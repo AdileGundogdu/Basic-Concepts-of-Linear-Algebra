{
 "cells": [
  {
   "cell_type": "markdown",
   "id": "7fcbb22d-9dcb-4c01-93c8-81d588313d79",
   "metadata": {},
   "source": [
    "**Dimensionality Reduction Steps Using the PCA Method**\n",
    "\n",
    "**1. Standardizing the Dataset:**\n",
    "\n",
    "* This step involves transforming all variables in the dataset so that they have a mean of zero and a standard deviation of one.\n",
    "\n",
    "**2. Computing the Covariance Matrix:**\n",
    "\n",
    "* Based on the standardized data, the covariance matrix is calculated to capture the relationships (covariances) between variables.\n",
    "\n",
    "**3. Calculating Eigenvalues and Eigenvectors of the Covariance Matrix:**\n",
    "\n",
    "* The eigenvalues and their corresponding eigenvectors of the covariance matrix are computed to reveal the principal directions and the amount of variance explained by each.\n",
    "\n",
    "**4. Sorting Eigenvalues and Selecting Eigenvectors:**\n",
    "\n",
    "* The eigenvalues are sorted in descending order, and the top eigenvectors corresponding to the largest eigenvalues are selected according to the desired number of dimensions.\n",
    "\n",
    "**5. Constructing the New Feature Matrix:**\n",
    "\n",
    "* A new matrix is constructed using the selected eigenvectors, which represent the original data in a lower-dimensional space.\n",
    "\n",
    "**6. Reducing Dimensionality and Forming the Transformed Dataset:**\n",
    "\n",
    "* The original dataset is projected onto the selected eigenvectors to obtain the reduced-dimensional representation."
   ]
  },
  {
   "cell_type": "code",
   "execution_count": 5,
   "id": "754ef2bb-192f-4151-8933-516404fcf4ef",
   "metadata": {},
   "outputs": [],
   "source": [
    "import numpy as np\n",
    "import pandas as pd"
   ]
  },
  {
   "cell_type": "code",
   "execution_count": 7,
   "id": "8cd5bf4a-3bed-4508-85ac-07e987971b8b",
   "metadata": {},
   "outputs": [],
   "source": [
    "#Creating Data Set\n",
    "np.random.seed(42)\n",
    "\n",
    "data = {\n",
    "    'X1': np.random.rand(100),\n",
    "    'X2': np.random.rand(100),\n",
    "    'X3': np.random.rand(100),\n",
    "    'X4': np.random.rand(100),\n",
    "    'X5': np.random.rand(100),\n",
    "    'Y': np.random.rand(100) #dependent variable\n",
    "}"
   ]
  },
  {
   "cell_type": "code",
   "execution_count": 8,
   "id": "d8e9e7f1-e1e8-4bdf-988e-0a74731c71d7",
   "metadata": {},
   "outputs": [],
   "source": [
    "df = pd.DataFrame(data)"
   ]
  },
  {
   "cell_type": "code",
   "execution_count": 10,
   "id": "9c6c29ef-16ee-431f-b475-28837e9e5d1d",
   "metadata": {},
   "outputs": [],
   "source": [
    "# 1. Standardizing the Dataset:\n",
    "\n",
    "for column in df.columns[:-1]: # Excluding the target variable 'Y'\n",
    "    mean_value = np.mean(df[column])\n",
    "    std_dev = np.std(df[column])\n",
    "    df[column] = (df[column] - mean_value)/std_dev"
   ]
  },
  {
   "cell_type": "markdown",
   "id": "d86262dc-2a22-45b0-a84c-618fed476321",
   "metadata": {},
   "source": [
    "**Covariance Matrix**\n",
    "\n",
    "$$\n",
    "Cov = \\frac{{1}}{{n}} X. X^T\n",
    "$$"
   ]
  },
  {
   "cell_type": "code",
   "execution_count": 11,
   "id": "6e033b39-a03d-4d88-966f-f2c8f8fe12a2",
   "metadata": {},
   "outputs": [],
   "source": [
    "# 2. Computing the Covariance Matrix\n",
    "\n",
    "X = df.drop('Y', axis = 1)\n",
    "\n",
    "# COV = (X^T . X) / n\n",
    "Cov = (X.T @ X) / len(X)"
   ]
  },
  {
   "cell_type": "code",
   "execution_count": 14,
   "id": "bf946f94-551d-4deb-8f22-5c0518898677",
   "metadata": {},
   "outputs": [
    {
     "data": {
      "text/plain": [
       "(array([0.59174262, 0.81715522, 1.32991061, 1.09562139, 1.16557016]),\n",
       " array([[ 0.49930166,  0.15028647, -0.29914709, -0.6477717 , -0.46799003],\n",
       "        [ 0.12625737, -0.63952093,  0.16492762, -0.51282615,  0.53374176],\n",
       "        [ 0.40124055, -0.54211892, -0.53341401,  0.50090518, -0.09836966],\n",
       "        [ 0.65144057,  0.03238792,  0.70933424,  0.25010438, -0.09417506],\n",
       "        [-0.38650761, -0.52295798,  0.30923184, -0.06279296, -0.69105682]]))"
      ]
     },
     "execution_count": 14,
     "metadata": {},
     "output_type": "execute_result"
    }
   ],
   "source": [
    "# 3. Calculating Eigenvalues and Eigenvectors of the Covariance Matrix:\n",
    "\n",
    "eigenvalues, eigenvectors = np.linalg.eig(Cov)\n",
    "eigenvalues, eigenvectors"
   ]
  },
  {
   "cell_type": "code",
   "execution_count": 20,
   "id": "5e708657-8859-40e7-8da6-46256f3ffdd8",
   "metadata": {},
   "outputs": [],
   "source": [
    "# 4. Sorting Eigenvalues and Selecting Eigenvectors:\n",
    "\n",
    "sorted_indexes = np.argsort(eigenvalues)[::-1]\n",
    "sorted_eigenvalues = eigenvalues[sorted_indexes]\n",
    "sorted_eigenvectors = eigenvectors[sorted_indexes]"
   ]
  },
  {
   "cell_type": "code",
   "execution_count": 21,
   "id": "c4bb7c2c-916f-461b-b8cb-7ea0e2120798",
   "metadata": {},
   "outputs": [],
   "source": [
    "# Selecting Principal Components Based on Desired Dimension\n",
    "\n",
    "new_dimension = 2\n",
    "principal_components = sorted_eigenvectors[:new_dimension]"
   ]
  },
  {
   "cell_type": "code",
   "execution_count": 22,
   "id": "4cb206d1-9476-4a03-b064-558c167b8cc5",
   "metadata": {},
   "outputs": [],
   "source": [
    "# 5. Constructing the New Feature Matrix:\n",
    "\n",
    "X_new = X @ principal_components.T"
   ]
  },
  {
   "cell_type": "code",
   "execution_count": 26,
   "id": "e858f3fb-c227-45e6-b704-bd7a2c8cdc4b",
   "metadata": {},
   "outputs": [
    {
     "data": {
      "text/html": [
       "<div>\n",
       "<style scoped>\n",
       "    .dataframe tbody tr th:only-of-type {\n",
       "        vertical-align: middle;\n",
       "    }\n",
       "\n",
       "    .dataframe tbody tr th {\n",
       "        vertical-align: top;\n",
       "    }\n",
       "\n",
       "    .dataframe thead th {\n",
       "        text-align: right;\n",
       "    }\n",
       "</style>\n",
       "<table border=\"1\" class=\"dataframe\">\n",
       "  <thead>\n",
       "    <tr style=\"text-align: right;\">\n",
       "      <th></th>\n",
       "      <th>0</th>\n",
       "      <th>1</th>\n",
       "      <th>2</th>\n",
       "    </tr>\n",
       "  </thead>\n",
       "  <tbody>\n",
       "    <tr>\n",
       "      <th>0</th>\n",
       "      <td>-0.115801</td>\n",
       "      <td>2.087674</td>\n",
       "      <td>0.698162</td>\n",
       "    </tr>\n",
       "    <tr>\n",
       "      <th>1</th>\n",
       "      <td>1.134779</td>\n",
       "      <td>-2.186291</td>\n",
       "      <td>0.536096</td>\n",
       "    </tr>\n",
       "    <tr>\n",
       "      <th>2</th>\n",
       "      <td>1.434576</td>\n",
       "      <td>-0.377020</td>\n",
       "      <td>0.309528</td>\n",
       "    </tr>\n",
       "    <tr>\n",
       "      <th>3</th>\n",
       "      <td>-0.387193</td>\n",
       "      <td>-0.491669</td>\n",
       "      <td>0.813795</td>\n",
       "    </tr>\n",
       "    <tr>\n",
       "      <th>4</th>\n",
       "      <td>-0.885918</td>\n",
       "      <td>0.146332</td>\n",
       "      <td>0.684731</td>\n",
       "    </tr>\n",
       "    <tr>\n",
       "      <th>...</th>\n",
       "      <td>...</td>\n",
       "      <td>...</td>\n",
       "      <td>...</td>\n",
       "    </tr>\n",
       "    <tr>\n",
       "      <th>95</th>\n",
       "      <td>1.104447</td>\n",
       "      <td>0.500707</td>\n",
       "      <td>0.473962</td>\n",
       "    </tr>\n",
       "    <tr>\n",
       "      <th>96</th>\n",
       "      <td>-0.204867</td>\n",
       "      <td>-0.436725</td>\n",
       "      <td>0.667558</td>\n",
       "    </tr>\n",
       "    <tr>\n",
       "      <th>97</th>\n",
       "      <td>-0.219252</td>\n",
       "      <td>-0.011057</td>\n",
       "      <td>0.172320</td>\n",
       "    </tr>\n",
       "    <tr>\n",
       "      <th>98</th>\n",
       "      <td>-1.215498</td>\n",
       "      <td>-1.060753</td>\n",
       "      <td>0.192289</td>\n",
       "    </tr>\n",
       "    <tr>\n",
       "      <th>99</th>\n",
       "      <td>0.080331</td>\n",
       "      <td>-1.572098</td>\n",
       "      <td>0.040869</td>\n",
       "    </tr>\n",
       "  </tbody>\n",
       "</table>\n",
       "<p>100 rows × 3 columns</p>\n",
       "</div>"
      ],
      "text/plain": [
       "           0         1         2\n",
       "0  -0.115801  2.087674  0.698162\n",
       "1   1.134779 -2.186291  0.536096\n",
       "2   1.434576 -0.377020  0.309528\n",
       "3  -0.387193 -0.491669  0.813795\n",
       "4  -0.885918  0.146332  0.684731\n",
       "..       ...       ...       ...\n",
       "95  1.104447  0.500707  0.473962\n",
       "96 -0.204867 -0.436725  0.667558\n",
       "97 -0.219252 -0.011057  0.172320\n",
       "98 -1.215498 -1.060753  0.192289\n",
       "99  0.080331 -1.572098  0.040869\n",
       "\n",
       "[100 rows x 3 columns]"
      ]
     },
     "execution_count": 26,
     "metadata": {},
     "output_type": "execute_result"
    }
   ],
   "source": [
    "# 6. Reducing Dimensionality and Forming the Transformed Dataset:\n",
    "\n",
    "reduced_data = pd.concat([X_new, df['Y']], axis = 1, ignore_index = True)\n",
    "reduced_data"
   ]
  },
  {
   "cell_type": "markdown",
   "id": "082a31e1-5f0b-4a90-a0e7-3211861d210d",
   "metadata": {},
   "source": [
    "### Dimensionality Reduction with PCA in the Scikit-learn Library"
   ]
  },
  {
   "cell_type": "code",
   "execution_count": 27,
   "id": "a6df9328-ef8e-4ec9-ba1d-061abdf3fb7a",
   "metadata": {},
   "outputs": [],
   "source": [
    "from sklearn.decomposition import PCA\n",
    "from sklearn.preprocessing import StandardScaler"
   ]
  },
  {
   "cell_type": "code",
   "execution_count": 28,
   "id": "eec16782-6d36-48cf-a00a-33136bca13c5",
   "metadata": {},
   "outputs": [],
   "source": [
    "# Set the seed for reproducibility\n",
    "np.random.seed(42)\n",
    "\n",
    "# Create the dataset\n",
    "data = {\n",
    "    'X1': np.random.rand(100),\n",
    "    'X2': np.random.rand(100),\n",
    "    'X3': np.random.rand(100),\n",
    "    'X4': np.random.rand(100),\n",
    "    'X5': np.random.rand(100),\n",
    "    'Y': np.random.rand(100)\n",
    "}\n",
    "\n",
    "# Convert the dataset to a Pandas DataFrame\n",
    "df = pd.DataFrame(data)\n",
    "\n",
    "# Independent variable matrix from the standardized dataset (excluding 'Y')\n",
    "X = df.drop('Y', axis=1)"
   ]
  },
  {
   "cell_type": "code",
   "execution_count": 29,
   "id": "3d9eb858-4d72-4e6e-bdd0-1b6cc9a08909",
   "metadata": {},
   "outputs": [],
   "source": [
    "# Creating the PCA model\n",
    "pca = PCA(n_components=2)"
   ]
  },
  {
   "cell_type": "code",
   "execution_count": 30,
   "id": "daa5db75-b2fe-4868-9a99-1d5d8ba0a1d2",
   "metadata": {},
   "outputs": [],
   "source": [
    "# Fitting the model and transforming the data\n",
    "X_new = pca.fit_transform(X)"
   ]
  },
  {
   "cell_type": "code",
   "execution_count": 32,
   "id": "d52d322e-0832-4095-ad0d-d87102a9c6bc",
   "metadata": {},
   "outputs": [
    {
     "data": {
      "text/html": [
       "<div>\n",
       "<style scoped>\n",
       "    .dataframe tbody tr th:only-of-type {\n",
       "        vertical-align: middle;\n",
       "    }\n",
       "\n",
       "    .dataframe tbody tr th {\n",
       "        vertical-align: top;\n",
       "    }\n",
       "\n",
       "    .dataframe thead th {\n",
       "        text-align: right;\n",
       "    }\n",
       "</style>\n",
       "<table border=\"1\" class=\"dataframe\">\n",
       "  <thead>\n",
       "    <tr style=\"text-align: right;\">\n",
       "      <th></th>\n",
       "      <th>0</th>\n",
       "      <th>1</th>\n",
       "      <th>2</th>\n",
       "    </tr>\n",
       "  </thead>\n",
       "  <tbody>\n",
       "    <tr>\n",
       "      <th>0</th>\n",
       "      <td>-0.585185</td>\n",
       "      <td>0.076580</td>\n",
       "      <td>0.698162</td>\n",
       "    </tr>\n",
       "    <tr>\n",
       "      <th>1</th>\n",
       "      <td>0.407338</td>\n",
       "      <td>0.292742</td>\n",
       "      <td>0.536096</td>\n",
       "    </tr>\n",
       "    <tr>\n",
       "      <th>2</th>\n",
       "      <td>0.145770</td>\n",
       "      <td>0.101999</td>\n",
       "      <td>0.309528</td>\n",
       "    </tr>\n",
       "    <tr>\n",
       "      <th>3</th>\n",
       "      <td>0.127105</td>\n",
       "      <td>0.316258</td>\n",
       "      <td>0.813795</td>\n",
       "    </tr>\n",
       "    <tr>\n",
       "      <th>4</th>\n",
       "      <td>0.011463</td>\n",
       "      <td>-0.504780</td>\n",
       "      <td>0.684731</td>\n",
       "    </tr>\n",
       "    <tr>\n",
       "      <th>...</th>\n",
       "      <td>...</td>\n",
       "      <td>...</td>\n",
       "      <td>...</td>\n",
       "    </tr>\n",
       "    <tr>\n",
       "      <th>95</th>\n",
       "      <td>0.168661</td>\n",
       "      <td>-0.137770</td>\n",
       "      <td>0.473962</td>\n",
       "    </tr>\n",
       "    <tr>\n",
       "      <th>96</th>\n",
       "      <td>0.166553</td>\n",
       "      <td>-0.055927</td>\n",
       "      <td>0.667558</td>\n",
       "    </tr>\n",
       "    <tr>\n",
       "      <th>97</th>\n",
       "      <td>-0.200797</td>\n",
       "      <td>-0.508441</td>\n",
       "      <td>0.172320</td>\n",
       "    </tr>\n",
       "    <tr>\n",
       "      <th>98</th>\n",
       "      <td>0.459662</td>\n",
       "      <td>-0.214892</td>\n",
       "      <td>0.192289</td>\n",
       "    </tr>\n",
       "    <tr>\n",
       "      <th>99</th>\n",
       "      <td>0.681847</td>\n",
       "      <td>-0.280205</td>\n",
       "      <td>0.040869</td>\n",
       "    </tr>\n",
       "  </tbody>\n",
       "</table>\n",
       "<p>100 rows × 3 columns</p>\n",
       "</div>"
      ],
      "text/plain": [
       "           0         1         2\n",
       "0  -0.585185  0.076580  0.698162\n",
       "1   0.407338  0.292742  0.536096\n",
       "2   0.145770  0.101999  0.309528\n",
       "3   0.127105  0.316258  0.813795\n",
       "4   0.011463 -0.504780  0.684731\n",
       "..       ...       ...       ...\n",
       "95  0.168661 -0.137770  0.473962\n",
       "96  0.166553 -0.055927  0.667558\n",
       "97 -0.200797 -0.508441  0.172320\n",
       "98  0.459662 -0.214892  0.192289\n",
       "99  0.681847 -0.280205  0.040869\n",
       "\n",
       "[100 rows x 3 columns]"
      ]
     },
     "execution_count": 32,
     "metadata": {},
     "output_type": "execute_result"
    }
   ],
   "source": [
    "df_dimensional_reduced = pd.concat([pd.DataFrame(X_new), df['Y']], axis=1, ignore_index=True)\n",
    "df_dimensional_reduced"
   ]
  },
  {
   "cell_type": "code",
   "execution_count": null,
   "id": "91e04985-dacd-45af-b4c0-051cd2fb2294",
   "metadata": {},
   "outputs": [],
   "source": []
  }
 ],
 "metadata": {
  "kernelspec": {
   "display_name": "Python [conda env:base] *",
   "language": "python",
   "name": "conda-base-py"
  },
  "language_info": {
   "codemirror_mode": {
    "name": "ipython",
    "version": 3
   },
   "file_extension": ".py",
   "mimetype": "text/x-python",
   "name": "python",
   "nbconvert_exporter": "python",
   "pygments_lexer": "ipython3",
   "version": "3.13.5"
  }
 },
 "nbformat": 4,
 "nbformat_minor": 5
}
