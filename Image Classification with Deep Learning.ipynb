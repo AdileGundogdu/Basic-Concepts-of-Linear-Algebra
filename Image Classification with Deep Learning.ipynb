{
 "cells": [
  {
   "cell_type": "markdown",
   "id": "9be78138-a9a0-434b-b3a6-d97201d1089d",
   "metadata": {},
   "source": [
    "## Deep Learning and Linear Algebra\n",
    "\n",
    "**Objective:**\n",
    "\n",
    "To build an image classification model using deep learning techniques and fundamental operations of linear algebra.\n",
    "\n",
    "**Steps:**\n",
    "\n",
    "* **Data Loading:** First, we will load an image dataset (e.g., the MNIST handwritten digits dataset).\n",
    "\n",
    "* **Data Preprocessing:** We will perform necessary preprocessing steps to prepare the image data (e.g., normalization).\n",
    "\n",
    "* **Model Building:** We will construct a neural network model where linear algebra operations will be applied.\n",
    "\n",
    "* **Training:** We will train the model and observe how linear algebra is used in the process.\n",
    "\n",
    "* **Evaluation:** We will evaluate the performance of the trained model."
   ]
  },
  {
   "cell_type": "code",
   "execution_count": 1,
   "id": "080a0af2-74a4-43cc-8b01-d73f2322fd6c",
   "metadata": {},
   "outputs": [],
   "source": [
    "# pip install tensorflow"
   ]
  },
  {
   "cell_type": "code",
   "execution_count": null,
   "id": "ab888987-1046-450f-8a61-40830f7e1d42",
   "metadata": {},
   "outputs": [],
   "source": [
    "# Libraries\n",
    "import numpy as np\n",
    "from tensorflow.keras.datasets import mnist\n",
    "from tensorflow.keras.models import Sequential\n",
    "from tensorflow.keras.layers import Dense\n",
    "from tensorflow.keras.optimizers import SGD"
   ]
  },
  {
   "cell_type": "code",
   "execution_count": null,
   "id": "00f2d5b0-e4ca-4e36-8cfa-acc6874091ba",
   "metadata": {},
   "outputs": [],
   "source": [
    "#Data Loading:\n",
    "(x_train, y_train), (x_test, y_test) = mnist.load_data()"
   ]
  },
  {
   "cell_type": "markdown",
   "id": "842ef03d-1bfc-4e6a-af3d-9516c97ada2b",
   "metadata": {},
   "source": [
    "**Dataset:** **MNIST** is a dataset consisting of handwritten digits. Each image is 28x28 pixels in size and contains pixel values ranging from 0 to 255. It is commonly provided as separate sets for training and testing."
   ]
  },
  {
   "cell_type": "code",
   "execution_count": null,
   "id": "89fbc4b7-0feb-40d5-8e20-6179b2236de8",
   "metadata": {},
   "outputs": [],
   "source": [
    "# Data Preprocessing\n",
    "x_train = x_train.astype('float32') / 255.0\n",
    "x_test = x_test.astype('float32') / 255.0"
   ]
  },
  {
   "cell_type": "code",
   "execution_count": null,
   "id": "f8db982d-5a3c-4978-9bad-a1e1bc23900d",
   "metadata": {},
   "outputs": [],
   "source": [
    "x_train = x_train.reshape(x_train.shape[0], -1)\n",
    "x_test = x_test.reshape(x_test.shape[0], -1)"
   ]
  },
  {
   "cell_type": "code",
   "execution_count": null,
   "id": "bdfb2843-6edc-4eb4-9177-9a8e1ff269fc",
   "metadata": {},
   "outputs": [],
   "source": [
    "# Model Building\n",
    "model = Sequential([\n",
    "    Dense(128, activation='relu', input_shape=(784,)),   # Hidden layer with ReLU activation\n",
    "    Dense(10, activation='softmax')                       # Output layer with softmax activation for 10 classes\n",
    "])"
   ]
  },
  {
   "cell_type": "markdown",
   "id": "a07feb63-20f5-4701-a8e9-ea627a6a0e5f",
   "metadata": {},
   "source": [
    "**Sequential Model:**\n",
    "A model type provided by the Keras API. It connects layers in a sequential manner, adding them one after another starting from the input layer.\n",
    "\n",
    "**Input Layer:**\n",
    "This is the first layer and directly receives the input data. In the case of the MNIST dataset, the images are flattened into a vector of pixel values (e.g., a vector of length 784 for 28x28 images) and passed into this layer.\n",
    "\n",
    "**Hidden Layer:**\n",
    "This layer enables the model’s learning capability. It takes the data from the input layer and learns features through its neurons. Activation functions like ReLU are often used between hidden layers to introduce non-linearity.\n",
    "\n",
    "**Output Layer:**\n",
    "This is the layer where the model makes predictions or classifications. In the MNIST example, the output layer typically contains 10 neurons, corresponding to digits from 0 to 9. The Softmax activation function is used to generate a probability distribution over the classes."
   ]
  },
  {
   "cell_type": "markdown",
   "id": "bd05cb0c-bd3d-491f-855f-bdba9a65b37f",
   "metadata": {},
   "source": [
    "### ReLU (Rectified Linear Activation)\n",
    "\n",
    "ReLU is one of the most widely used activation functions in deep learning and neural networks. It is particularly preferred in hidden layers.\n",
    "* **Function:** $f(x) = \\max(0, x)$\n",
    "* Sets all negative inputs to zero and passes positive inputs unchanged.\n",
    "* It is fast and computationally efficient.\n",
    "* Can increase the network’s non-linearity and learning capability.\n",
    "* May be more resistant to issues such as exploding or vanishing gradients.\n",
    "\n",
    "\n",
    "### Softmax\n",
    "\n",
    "Softmax is typically used in the output layer of multi-class classification problems. It is especially useful for generating class probabilities.\n",
    "* **Function:** $\\text{softmax}(x_i) = \\frac{e^{x_i}}{\\sum_{j=1}^{N} e^{x_j}}$\n",
    "* Provides a probability distribution across all classes. The output is normalized so that the total probability equals 1.\n",
    "* Commonly used in multi-class classification tasks to express the likelihood of each class.\n",
    "* Offers comparable probabilities among classes and helps select the class with the highest probability.\n",
    "* Can help reduce gradient explosion problems and make the network more stable."
   ]
  },
  {
   "cell_type": "code",
   "execution_count": null,
   "id": "4feb049c-efa7-4377-b5ee-abe10c5c51e9",
   "metadata": {},
   "outputs": [],
   "source": [
    "# Model Compilation:\n",
    "sgd = SGD(learning_rate=0.01)  # Gradient descent optimizer with specified learning rate\n",
    "model.compile(\n",
    "    optimizer=sgd,                             # Optimizer for updating weights\n",
    "    loss='sparse_categorical_crossentropy',    # Loss function for multi-class classification with integer labels\n",
    "    metrics=['accuracy']                       # Metric to evaluate model performance\n",
    ")"
   ]
  },
  {
   "cell_type": "code",
   "execution_count": null,
   "id": "8c6a4597-510d-4446-8950-f2cf24a7a62f",
   "metadata": {},
   "outputs": [],
   "source": [
    "# Training:\n",
    "model.fit(x_train, y_train, epochs=5, batch_size=32, validation_data=(x_test, y_test))"
   ]
  },
  {
   "cell_type": "code",
   "execution_count": null,
   "id": "364a445e-5879-4f84-b714-30ee3d860c9e",
   "metadata": {},
   "outputs": [],
   "source": [
    "# Evaluation:\n",
    "test_loss, test_acc = model.evaluate(x_test, y_test)\n",
    "print(f\"Test accuracy: {test_acc}\")"
   ]
  }
 ],
 "metadata": {
  "kernelspec": {
   "display_name": "Python [conda env:base] *",
   "language": "python",
   "name": "conda-base-py"
  },
  "language_info": {
   "codemirror_mode": {
    "name": "ipython",
    "version": 3
   },
   "file_extension": ".py",
   "mimetype": "text/x-python",
   "name": "python",
   "nbconvert_exporter": "python",
   "pygments_lexer": "ipython3",
   "version": "3.13.5"
  }
 },
 "nbformat": 4,
 "nbformat_minor": 5
}
