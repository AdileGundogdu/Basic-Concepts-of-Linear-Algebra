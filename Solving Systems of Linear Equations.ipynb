{
 "cells": [
  {
   "cell_type": "markdown",
   "id": "2d0f03f6-8415-4def-9896-93845a6f2f1b",
   "metadata": {},
   "source": [
    "## Solving Systems of Linear Equations"
   ]
  },
  {
   "cell_type": "markdown",
   "id": "3e5915a9-3739-4e12-9426-2fa7cfbd7d72",
   "metadata": {},
   "source": [
    "**System of Linear Equations**\n",
    "\n",
    "$2x_1 + 3x_2 - x_3 = 1$\n",
    "\n",
    "$4x_1 + x_2 + 2x_3 = -2$\n",
    "\n",
    "$-x_1 + 2x_2 + 3x_3 = 3$"
   ]
  },
  {
   "cell_type": "markdown",
   "id": "5d869c87-77ca-40d9-8442-71f0725242b3",
   "metadata": {},
   "source": [
    "**To solve a linear system**\n",
    "\n",
    "$A \\cdot X = b \\implies X = A^{-1} \\cdot b,$ $\\quad X = [x_1, x_2, x_3]$"
   ]
  },
  {
   "cell_type": "code",
   "execution_count": 29,
   "id": "01893f41-b743-400c-a79f-dbab7fde2fb1",
   "metadata": {},
   "outputs": [],
   "source": [
    "import numpy as np"
   ]
  },
  {
   "cell_type": "code",
   "execution_count": 30,
   "id": "2bc12265-0de2-4864-b3ee-2c275d105087",
   "metadata": {},
   "outputs": [],
   "source": [
    "# The coefficient matrix A\n",
    "\n",
    "A = np.array([[2, 3, -1],\n",
    "              [4, 1, 2],\n",
    "              [-1, 2, 3]])"
   ]
  },
  {
   "cell_type": "code",
   "execution_count": 31,
   "id": "b86bed58-f7fb-442d-85e7-bc266c787538",
   "metadata": {},
   "outputs": [],
   "source": [
    "# The constant vector\n",
    "b = np.array([1, -2, 3])"
   ]
  },
  {
   "cell_type": "code",
   "execution_count": 32,
   "id": "510fa6bb-6be2-49d3-a9b7-a3b9e59f6761",
   "metadata": {},
   "outputs": [
    {
     "data": {
      "text/plain": [
       "array([[ 0.01886792,  0.20754717, -0.13207547],\n",
       "       [ 0.26415094, -0.09433962,  0.1509434 ],\n",
       "       [-0.16981132,  0.13207547,  0.18867925]])"
      ]
     },
     "execution_count": 32,
     "metadata": {},
     "output_type": "execute_result"
    }
   ],
   "source": [
    "# We'll use the inverse function of linear Algebra module in Numpy library.\n",
    "\n",
    "A_inverse = np.linalg.inv(A)\n",
    "A_inverse"
   ]
  },
  {
   "cell_type": "code",
   "execution_count": 33,
   "id": "2899fca3-a036-48ea-b1a2-0f749d46983b",
   "metadata": {},
   "outputs": [
    {
     "data": {
      "text/plain": [
       "array([-0.79245283,  0.90566038,  0.13207547])"
      ]
     },
     "execution_count": 33,
     "metadata": {},
     "output_type": "execute_result"
    }
   ],
   "source": [
    "# We'll use the matrix multiplication function in Numpy library.\n",
    "\n",
    "X = np.matmul(A_inverse,b)\n",
    "X"
   ]
  },
  {
   "cell_type": "code",
   "execution_count": 34,
   "id": "e342e76c-e1ec-4dcb-aad6-2102fdf2c0e0",
   "metadata": {},
   "outputs": [
    {
     "name": "stdout",
     "output_type": "stream",
     "text": [
      "The solution of Linear Equations:\n",
      "x_1 =  -0.7924528301886793\n",
      "x_2 =  0.9056603773584906\n",
      "x_3 =  0.13207547169811323\n"
     ]
    }
   ],
   "source": [
    "print(\"The solution of Linear Equations:\")\n",
    "print(\"x_1 = \",X[0])\n",
    "print(\"x_2 = \",X[1])\n",
    "print(\"x_3 = \",X[2])"
   ]
  },
  {
   "cell_type": "code",
   "execution_count": 35,
   "id": "0b25a966-077e-47a9-90c1-7bb040816930",
   "metadata": {},
   "outputs": [],
   "source": [
    "def solution_linear_equations(coefficients, constants):\n",
    "    try:\n",
    "        A = np.array(coefficients)\n",
    "        b = np.array(constants)\n",
    "        A_inverse = np.linalg.inv(A)\n",
    "        X = np.matmul(A_inverse,b)\n",
    "        return X\n",
    "# if A matrix does not have an inverse matrix, then\n",
    "    except np.linalg.LinAlgError:\n",
    "        return \"There is no solution of this linear system\""
   ]
  },
  {
   "cell_type": "code",
   "execution_count": 36,
   "id": "dcef7729-5700-4454-ac28-4527b0639dbe",
   "metadata": {},
   "outputs": [
    {
     "data": {
      "text/plain": [
       "array([-0.79245283,  0.90566038,  0.13207547])"
      ]
     },
     "execution_count": 36,
     "metadata": {},
     "output_type": "execute_result"
    }
   ],
   "source": [
    "solution_linear_equations(A, b)"
   ]
  },
  {
   "cell_type": "code",
   "execution_count": 37,
   "id": "d300eac1-2037-4e02-be2d-f3fc11e96dbd",
   "metadata": {},
   "outputs": [
    {
     "data": {
      "text/plain": [
       "array([-0.79245283,  0.90566038,  0.13207547])"
      ]
     },
     "execution_count": 37,
     "metadata": {},
     "output_type": "execute_result"
    }
   ],
   "source": [
    "# Linear Algebra module has an function for the solution:\n",
    "\n",
    "x = np.linalg.solve(A,b)\n",
    "x"
   ]
  },
  {
   "cell_type": "code",
   "execution_count": 38,
   "id": "b416e0c8-e45d-4542-9dde-e43a1e0a3342",
   "metadata": {},
   "outputs": [
    {
     "data": {
      "text/plain": [
       "array([ True,  True, False])"
      ]
     },
     "execution_count": 38,
     "metadata": {},
     "output_type": "execute_result"
    }
   ],
   "source": [
    "solution_linear_equations(A, b) == x"
   ]
  },
  {
   "cell_type": "code",
   "execution_count": null,
   "id": "781e997d-603f-40e6-b6d0-c17df95e325d",
   "metadata": {},
   "outputs": [],
   "source": []
  }
 ],
 "metadata": {
  "kernelspec": {
   "display_name": "Python [conda env:base] *",
   "language": "python",
   "name": "conda-base-py"
  },
  "language_info": {
   "codemirror_mode": {
    "name": "ipython",
    "version": 3
   },
   "file_extension": ".py",
   "mimetype": "text/x-python",
   "name": "python",
   "nbconvert_exporter": "python",
   "pygments_lexer": "ipython3",
   "version": "3.13.5"
  }
 },
 "nbformat": 4,
 "nbformat_minor": 5
}
